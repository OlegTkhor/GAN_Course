{
  "cells": [
    {
      "cell_type": "markdown",
      "metadata": {
        "id": "view-in-github",
        "colab_type": "text"
      },
      "source": [
        "<a href=\"https://colab.research.google.com/github/OlegTkhor/GAN_Course/blob/main/Simple_GAN_PyTorch.ipynb\" target=\"_parent\"><img src=\"https://colab.research.google.com/assets/colab-badge.svg\" alt=\"Open In Colab\"/></a>"
      ]
    },
    {
      "cell_type": "code",
      "source": [
        "import torch\n",
        "import torch.nn as nn\n",
        "import torch.optim as optim\n",
        "import torchvision\n",
        "import torchvision.datasets as datasets\n",
        "from torch.utils.data import DataLoader\n",
        "import torchvision.transforms as transforms\n",
        "from torch.utils.tensorboard import SummaryWriter  # to print to tensorboard\n",
        "\n",
        "\n",
        "class Discriminator(nn.Module):\n",
        "    def __init__(self, in_features):\n",
        "        super().__init__()\n",
        "        self.disc = nn.Sequential(\n",
        "            nn.Linear(in_features, 128),\n",
        "            nn.LeakyReLU(0.01),\n",
        "            nn.Linear(128, 128),\n",
        "            nn.LeakyReLU(0.01),\n",
        "            nn.Linear(128, 1),\n",
        "            nn.Sigmoid(),\n",
        "        )\n",
        "\n",
        "    def forward(self, x):\n",
        "        return self.disc(x)\n",
        "\n",
        "\n",
        "class Generator(nn.Module):\n",
        "    def __init__(self, z_dim, img_dim):\n",
        "        super().__init__()\n",
        "        self.gen = nn.Sequential(\n",
        "            nn.Linear(z_dim, 256),\n",
        "            nn.LeakyReLU(0.01),\n",
        "            nn.Linear(256, 256),\n",
        "            nn.LeakyReLU(0.01),\n",
        "            nn.Linear(256, img_dim),\n",
        "            nn.Tanh(),  # normalize inputs to [-1, 1] so make outputs [-1, 1]\n",
        "        )\n",
        "\n",
        "    def forward(self, x):\n",
        "        return self.gen(x)\n",
        "\n",
        "\n",
        "# Hyperparameters etc.\n",
        "device = \"cuda\" if torch.cuda.is_available() else \"cpu\"\n",
        "lr = 3e-4\n",
        "z_dim = 64\n",
        "image_dim = 28 * 28 * 1  # 784\n",
        "batch_size = 32\n",
        "num_epochs = 50\n",
        "\n",
        "disc = Discriminator(image_dim).to(device)\n",
        "gen = Generator(z_dim, image_dim).to(device)\n",
        "fixed_noise = torch.randn((batch_size, z_dim)).to(device)\n",
        "transforms = transforms.Compose(\n",
        "    [transforms.ToTensor(), transforms.Normalize((0.5,), (0.5,)),]\n",
        ")\n",
        "\n",
        "dataset = datasets.MNIST(root=\"dataset/\", transform=transforms, download=True)\n",
        "loader = DataLoader(dataset, batch_size=batch_size, shuffle=True)\n",
        "opt_disc = optim.Adam(disc.parameters(), lr=lr)\n",
        "opt_gen = optim.Adam(gen.parameters(), lr=lr)\n",
        "criterion = nn.BCELoss()\n",
        "writer_fake = SummaryWriter(f\"logs/fake\")\n",
        "writer_real = SummaryWriter(f\"logs/real\")\n",
        "step = 0\n",
        "\n",
        "for epoch in range(num_epochs):\n",
        "    for batch_idx, (real, _) in enumerate(loader):\n",
        "        real = real.view(-1, 784).to(device)\n",
        "        batch_size = real.shape[0]\n",
        "\n",
        "        ### Train Discriminator: max log(D(x)) + log(1 - D(G(z)))\n",
        "        noise = torch.randn(batch_size, z_dim).to(device)\n",
        "        fake = gen(noise)\n",
        "        disc_real = disc(real).view(-1)\n",
        "        lossD_real = criterion(disc_real, torch.ones_like(disc_real))\n",
        "        disc_fake = disc(fake).view(-1)\n",
        "        lossD_fake = criterion(disc_fake, torch.zeros_like(disc_fake))\n",
        "        lossD = (lossD_real + lossD_fake) / 2\n",
        "        disc.zero_grad()\n",
        "        lossD.backward(retain_graph=True)\n",
        "        opt_disc.step()\n",
        "\n",
        "        ### Train Generator: min log(1 - D(G(z))) <-> max log(D(G(z))\n",
        "        # where the second option of maximizing doesn't suffer from\n",
        "        # saturating gradients\n",
        "        output = disc(fake).view(-1)\n",
        "        lossG = criterion(output, torch.ones_like(output))\n",
        "        gen.zero_grad()\n",
        "        lossG.backward()\n",
        "        opt_gen.step()\n",
        "\n",
        "        if batch_idx == 0:\n",
        "            print(\n",
        "                f\"Epoch [{epoch}/{num_epochs}] Batch {batch_idx}/{len(loader)} \\\n",
        "                      Loss D: {lossD:.4f}, loss G: {lossG:.4f}\"\n",
        "            )\n",
        "\n",
        "            with torch.no_grad():\n",
        "                fake = gen(fixed_noise).reshape(-1, 1, 28, 28)\n",
        "                data = real.reshape(-1, 1, 28, 28)\n",
        "                img_grid_fake = torchvision.utils.make_grid(fake, normalize=True)\n",
        "                img_grid_real = torchvision.utils.make_grid(data, normalize=True)\n",
        "\n",
        "                writer_fake.add_image(\n",
        "                    \"Mnist Fake Images\", img_grid_fake, global_step=step\n",
        "                )\n",
        "                writer_real.add_image(\n",
        "                    \"Mnist Real Images\", img_grid_real, global_step=step\n",
        "                )\n",
        "                step += 1"
      ],
      "metadata": {
        "colab": {
          "base_uri": "https://localhost:8080/"
        },
        "id": "rWjhSXPeQ_Mq",
        "outputId": "ca61c7f2-0b77-43f6-df57-83af72a89103"
      },
      "execution_count": 33,
      "outputs": [
        {
          "output_type": "stream",
          "name": "stdout",
          "text": [
            "Epoch [0/50] Batch 0/1875                       Loss D: 0.6588, loss G: 0.6802\n",
            "Epoch [1/50] Batch 0/1875                       Loss D: 0.2183, loss G: 2.3148\n",
            "Epoch [2/50] Batch 0/1875                       Loss D: 0.8051, loss G: 0.7533\n",
            "Epoch [3/50] Batch 0/1875                       Loss D: 0.3384, loss G: 1.7312\n",
            "Epoch [4/50] Batch 0/1875                       Loss D: 0.5679, loss G: 1.2845\n",
            "Epoch [5/50] Batch 0/1875                       Loss D: 0.3975, loss G: 1.2361\n",
            "Epoch [6/50] Batch 0/1875                       Loss D: 0.3391, loss G: 1.5317\n",
            "Epoch [7/50] Batch 0/1875                       Loss D: 0.6901, loss G: 1.0148\n",
            "Epoch [8/50] Batch 0/1875                       Loss D: 0.3884, loss G: 1.9639\n",
            "Epoch [9/50] Batch 0/1875                       Loss D: 0.3978, loss G: 2.8892\n",
            "Epoch [10/50] Batch 0/1875                       Loss D: 0.4426, loss G: 1.8866\n",
            "Epoch [11/50] Batch 0/1875                       Loss D: 0.3094, loss G: 3.0847\n",
            "Epoch [12/50] Batch 0/1875                       Loss D: 0.6664, loss G: 2.2940\n",
            "Epoch [13/50] Batch 0/1875                       Loss D: 0.2949, loss G: 1.7703\n",
            "Epoch [14/50] Batch 0/1875                       Loss D: 0.4260, loss G: 1.2093\n",
            "Epoch [15/50] Batch 0/1875                       Loss D: 0.5327, loss G: 1.5356\n",
            "Epoch [16/50] Batch 0/1875                       Loss D: 0.5260, loss G: 1.3605\n",
            "Epoch [17/50] Batch 0/1875                       Loss D: 0.2399, loss G: 2.3824\n",
            "Epoch [18/50] Batch 0/1875                       Loss D: 0.3621, loss G: 1.7473\n",
            "Epoch [19/50] Batch 0/1875                       Loss D: 0.5513, loss G: 1.5014\n",
            "Epoch [20/50] Batch 0/1875                       Loss D: 0.4223, loss G: 1.4385\n",
            "Epoch [21/50] Batch 0/1875                       Loss D: 0.3720, loss G: 1.6077\n",
            "Epoch [22/50] Batch 0/1875                       Loss D: 0.6132, loss G: 1.8213\n",
            "Epoch [23/50] Batch 0/1875                       Loss D: 0.4743, loss G: 1.5257\n",
            "Epoch [24/50] Batch 0/1875                       Loss D: 0.3717, loss G: 1.5654\n",
            "Epoch [25/50] Batch 0/1875                       Loss D: 0.4558, loss G: 1.3875\n",
            "Epoch [26/50] Batch 0/1875                       Loss D: 0.6490, loss G: 1.5496\n",
            "Epoch [27/50] Batch 0/1875                       Loss D: 0.4728, loss G: 1.2653\n",
            "Epoch [28/50] Batch 0/1875                       Loss D: 0.4631, loss G: 1.1458\n",
            "Epoch [29/50] Batch 0/1875                       Loss D: 0.4536, loss G: 1.2563\n",
            "Epoch [30/50] Batch 0/1875                       Loss D: 0.5342, loss G: 1.3901\n",
            "Epoch [31/50] Batch 0/1875                       Loss D: 0.5289, loss G: 1.1304\n",
            "Epoch [32/50] Batch 0/1875                       Loss D: 0.5059, loss G: 1.1403\n",
            "Epoch [33/50] Batch 0/1875                       Loss D: 0.5451, loss G: 1.3690\n",
            "Epoch [34/50] Batch 0/1875                       Loss D: 0.5187, loss G: 1.2407\n",
            "Epoch [35/50] Batch 0/1875                       Loss D: 0.6028, loss G: 0.9783\n",
            "Epoch [36/50] Batch 0/1875                       Loss D: 0.4874, loss G: 0.9753\n",
            "Epoch [37/50] Batch 0/1875                       Loss D: 0.4980, loss G: 1.2948\n",
            "Epoch [38/50] Batch 0/1875                       Loss D: 0.6315, loss G: 1.1262\n",
            "Epoch [39/50] Batch 0/1875                       Loss D: 0.5506, loss G: 1.0164\n",
            "Epoch [40/50] Batch 0/1875                       Loss D: 0.5565, loss G: 1.0060\n",
            "Epoch [41/50] Batch 0/1875                       Loss D: 0.5300, loss G: 1.2236\n",
            "Epoch [42/50] Batch 0/1875                       Loss D: 0.6140, loss G: 0.9405\n",
            "Epoch [43/50] Batch 0/1875                       Loss D: 0.5356, loss G: 1.2188\n",
            "Epoch [44/50] Batch 0/1875                       Loss D: 0.5693, loss G: 0.8782\n",
            "Epoch [45/50] Batch 0/1875                       Loss D: 0.6131, loss G: 1.0102\n",
            "Epoch [46/50] Batch 0/1875                       Loss D: 0.4225, loss G: 1.4918\n",
            "Epoch [47/50] Batch 0/1875                       Loss D: 0.5668, loss G: 0.9759\n",
            "Epoch [48/50] Batch 0/1875                       Loss D: 0.7105, loss G: 0.8340\n",
            "Epoch [49/50] Batch 0/1875                       Loss D: 0.6703, loss G: 1.0363\n"
          ]
        }
      ]
    },
    {
      "cell_type": "code",
      "source": [
        "output = gen(fixed_noise)"
      ],
      "metadata": {
        "id": "2eVFyjCVWbyv"
      },
      "execution_count": 34,
      "outputs": []
    },
    {
      "cell_type": "code",
      "source": [
        "import numpy as np\n",
        "import matplotlib.pyplot as plt\n",
        "\n",
        "result = output[11].view(28,28).detach().numpy()\n",
        "plt.imshow(result)"
      ],
      "metadata": {
        "colab": {
          "base_uri": "https://localhost:8080/",
          "height": 282
        },
        "id": "Uzo95X3xW3PN",
        "outputId": "1a3e2853-66d1-47a4-eccb-2ac321e8c649"
      },
      "execution_count": 46,
      "outputs": [
        {
          "output_type": "execute_result",
          "data": {
            "text/plain": [
              "<matplotlib.image.AxesImage at 0x7f88fb7fdf90>"
            ]
          },
          "metadata": {},
          "execution_count": 46
        },
        {
          "output_type": "display_data",
          "data": {
            "text/plain": [
              "<Figure size 432x288 with 1 Axes>"
            ],
            "image/png": "[encoded data removed]"
          },
          "metadata": {
            "needs_background": "light"
          }
        }
      ]
    }
  ],
  "metadata": {
    "colab": {
      "collapsed_sections": [],
      "name": "Welcome To Colaboratory",
      "toc_visible": true,
      "provenance": [],
      "include_colab_link": true
    },
    "kernelspec": {
      "display_name": "Python 3",
      "name": "python3"
    }
  },
  "nbformat": 4,
  "nbformat_minor": 0
}