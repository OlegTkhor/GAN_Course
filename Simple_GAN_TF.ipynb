{
  "cells": [
    {
      "cell_type": "markdown",
      "metadata": {
        "id": "view-in-github",
        "colab_type": "text"
      },
      "source": [
        "<a href=\"https://colab.research.google.com/github/OlegTkhor/GAN_Course/blob/main/Simple_GAN_TF.ipynb\" target=\"_parent\"><img src=\"https://colab.research.google.com/assets/colab-badge.svg\" alt=\"Open In Colab\"/></a>"
      ]
    },
    {
      "cell_type": "code",
      "source": [
        "\n",
        "import numpy as np\n",
        "import tensorflow as tf\n",
        "from tensorflow.keras.datasets import mnist\n",
        "from tensorflow.keras import layers\n",
        "import matplotlib.pyplot as plt\n",
        "from IPython import display\n",
        "import time\n",
        "EPOCH_RANGE=75\n",
        "batch_size = 32\n",
        "noise_dim = 64\n",
        "img_shape = 28*28\n",
        "fixed_noise = tf.random.normal([1, noise_dim])\n",
        "(images, labels), (_, _) = tf.keras.datasets.mnist.load_data()\n",
        "images = np.reshape(images, (-1, 784))\n",
        "images = images/255.0\n",
        "\n",
        "# Prepare the training dataset.\n",
        "dataset = tf.data.Dataset.from_tensor_slices((images, labels))\n",
        "dataset = dataset.shuffle(buffer_size=1024).batch(batch_size)\n",
        "def create_generator(noise_size):\n",
        "  model = tf.keras.models.Sequential()\n",
        "  model.add(layers.Dense(units=256,use_bias=False, input_shape=(noise_dim,)))\n",
        "  model.add(layers.LeakyReLU())\n",
        "  model.add(layers.Dense(units=256,use_bias=False, input_shape=(256,)))\n",
        "  model.add(layers.LeakyReLU())\n",
        "  model.add(layers.Dense(units=28*28,use_bias=False, input_shape=(256,)))\n",
        "  model.add(tf.keras.layers.Activation(tf.nn.sigmoid))\n",
        "  return model\n",
        "\n",
        "def create_discriminator(img_shape):\n",
        "  model = tf.keras.models.Sequential()\n",
        "  model.add(layers.Dense(units=128,use_bias=False, input_shape=(img_shape,)))\n",
        "  model.add(layers.LeakyReLU())\n",
        "  model.add(layers.Dense(units=128,use_bias=False, input_shape=(128,)))\n",
        "  model.add(layers.LeakyReLU())\n",
        "  model.add(layers.Dense(units=1,use_bias=False, input_shape=(256,)))\n",
        "  model.add(tf.keras.layers.Activation(tf.nn.sigmoid))\n",
        "  return model\n",
        "# This method returns a helper function to compute cross entropy loss\n",
        "cross_entropy = tf.keras.losses.BinaryCrossentropy(from_logits=True)\n",
        "def discriminator_loss(real_output, fake_output):\n",
        "  real_loss = cross_entropy(tf.ones_like(real_output), real_output)\n",
        "  fake_loss = cross_entropy(tf.zeros_like(fake_output), fake_output)\n",
        "  return real_loss + fake_loss\n",
        "\n",
        "def generator_loss(fake_output):\n",
        "    return cross_entropy(tf.ones_like(fake_output), fake_output)\n",
        "\n",
        "generator = create_generator(noise_dim)\n",
        "discriminator = create_discriminator(img_shape=img_shape)\n",
        "generator_optimizer = tf.keras.optimizers.Adam(3e-4)\n",
        "discriminator_optimizer = tf.keras.optimizers.Adam(3e-4)\n",
        "\n",
        "for epoch in range(EPOCH_RANGE):\n",
        "    print(f\"Start of {epoch} epoch\")\n",
        "    for step,(real_images,_) in enumerate(dataset):\n",
        "      noise = tf.random.normal([batch_size, noise_dim])\n",
        "      with tf.GradientTape() as disc_tape, tf.GradientTape() as gen_tape:\n",
        "        fake_images = generator(noise, training=True)\n",
        "        real_output = discriminator(real_images, training=True)\n",
        "        fake_output = discriminator(fake_images, training=True)\n",
        "        gen_loss = generator_loss(fake_output)\n",
        "        disc_loss = discriminator_loss(real_output, fake_output)\n",
        "\n",
        "        #grads = tape.gradient(loss_value, model.trainable_weights)\n",
        "        #optimizer.apply_gradients(zip(grads, model.trainable_weights))\n",
        "\n",
        "        gradients_of_generator = gen_tape.gradient(gen_loss, generator.trainable_variables)\n",
        "        gradients_of_discriminator = disc_tape.gradient(disc_loss, discriminator.trainable_weights)\n",
        "\n",
        "        generator_optimizer.apply_gradients(zip(gradients_of_generator, generator.trainable_variables))\n",
        "        discriminator_optimizer.apply_gradients(zip(gradients_of_discriminator, discriminator.trainable_variables))\n",
        "\n",
        "        #display results\n",
        "        \n",
        "        if step%500 == 0:\n",
        "          \n",
        "          display.clear_output(wait=True)\n",
        "          print(f\"Epoch: {epoch}, Step:{step}\")\n",
        "          out = generator(fixed_noise,training=False)\n",
        "          pic = out.numpy()\n",
        "          pic = pic.reshape(28,28)\n",
        "          fig, ax1 = plt.subplots(1,1)\n",
        "          ax1.set_title(f'Epoch: {epoch}')\n",
        "          im = ax1.imshow(pic)\n",
        "          plt.show()\n",
        "          \n",
        "\n"
      ],
      "metadata": {
        "id": "0Bxunoj5he2b"
      },
      "execution_count": 1,
      "outputs": []
    },
    {
      "cell_type": "code",
      "source": [
        "noise = tf.random.normal([10, noise_dim])\n",
        "output = generator(noise, training=False).numpy()\n",
        "plt.imshow(output[0].reshape(28,28))"
      ],
      "metadata": {
        "id": "D0n80X1KR5sE",
        "outputId": "dce03594-de9b-41bb-ffeb-daaaef2f9df7",
        "colab": {
          "base_uri": "https://localhost:8080/",
          "height": 282
        }
      },
      "execution_count": 36,
      "outputs": [
        {
          "output_type": "execute_result",
          "data": {
            "text/plain": [
              "<matplotlib.image.AxesImage at 0x7fceca0bb810>"
            ]
          },
          "metadata": {},
          "execution_count": 36
        },
        {
          "output_type": "display_data",
          "data": {
            "text/plain": [
              "<Figure size 432x288 with 1 Axes>"
            ],
            "image/png": "[encoded data removed]"
          },
          "metadata": {
            "needs_background": "light"
          }
        }
      ]
    }
  ],
  "metadata": {
    "colab": {
      "collapsed_sections": [],
      "name": "Welcome To Colaboratory",
      "provenance": [],
      "include_colab_link": true
    },
    "kernelspec": {
      "display_name": "Python 3",
      "name": "python3"
    },
    "accelerator": "GPU",
    "gpuClass": "standard"
  },
  "nbformat": 4,
  "nbformat_minor": 0
}